{
  "nbformat": 4,
  "nbformat_minor": 0,
  "metadata": {
    "colab": {
      "provenance": [],
      "include_colab_link": true
    },
    "kernelspec": {
      "name": "python3",
      "display_name": "Python 3"
    },
    "language_info": {
      "name": "python"
    }
  },
  "cells": [
    {
      "cell_type": "markdown",
      "metadata": {
        "id": "view-in-github",
        "colab_type": "text"
      },
      "source": [
        "<a href=\"https://colab.research.google.com/github/LBIVeterinary/CABBIO2022/blob/main/Full_Genome_Assembly.ipynb\" target=\"_parent\"><img src=\"https://colab.research.google.com/assets/colab-badge.svg\" alt=\"Open In Colab\"/></a>"
      ]
    },
    {
      "cell_type": "markdown",
      "source": [
        "#Montagem de genomas\n",
        "\n",
        "Para essa etapa utilizaremos alguns dos arquivos de leituras disponíveis em um repositório público*.\n",
        "\n",
        "*Dataset* = https://www.ebi.ac.uk/ena/browser/view/PRJNA328823"
      ],
      "metadata": {
        "id": "4cJ9ZPybvAxJ"
      }
    },
    {
      "cell_type": "code",
      "source": [
        "#@title\n",
        "#Tempo de execução (aprox.) = 31 seg\n",
        "!pip install -q condacolab\n",
        "import condacolab\n",
        "condacolab.install()"
      ],
      "metadata": {
        "id": "sQo9-ZzWybwb"
      },
      "execution_count": null,
      "outputs": []
    },
    {
      "cell_type": "code",
      "source": [
        "#Tempo de execução (aprox.) = 10 min\n",
        "!conda install -c bioconda multiqc -y\n",
        "!conda install -c bioconda fastqc -y\n",
        "!conda install -c bioconda quast -y\n",
        "!conda install -c bioconda adapterremoval\n",
        "!apt-get -y install spades"
      ],
      "metadata": {
        "id": "DlSkrOlKzAg0"
      },
      "execution_count": null,
      "outputs": []
    },
    {
      "cell_type": "code",
      "source": [
        "#Tempo de execução (aprox.) = 8 min\n",
        "!mkdir Reads\n",
        "\n",
        "#Reads 01 SRR3924583/K27\n",
        "!wget ftp://ftp.sra.ebi.ac.uk/vol1/fastq/SRR392/006/SRR3924596/SRR3924596_1.fastq.gz -O Reads/Mpneumoniae_K27_1.fastq.gz\n",
        "!wget ftp://ftp.sra.ebi.ac.uk/vol1/fastq/SRR392/006/SRR3924596/SRR3924596_2.fastq.gz -O Reads/Mpneumoniae_K27_2.fastq.gz\n",
        "\n",
        "#Reads 02 SRR3924584/FL1\n",
        "!wget ftp://ftp.sra.ebi.ac.uk/vol1/fastq/SRR392/003/SRR3924593/SRR3924593_1.fastq.gz -O Reads/Mpneumoniae_FL1_1.fastq.gz\n",
        "!wget ftp://ftp.sra.ebi.ac.uk/vol1/fastq/SRR392/003/SRR3924593/SRR3924593_2.fastq.gz -O Reads/Mpneumoniae_FL1_2.fastq.gz\n",
        "\n",
        "#Reads 03 SRR3924585/M129_2002\n",
        "!wget ftp://ftp.sra.ebi.ac.uk/vol1/fastq/SRR392/005/SRR3924635/SRR3924635_1.fastq.gz -O Reads/Mpneumoniae_M129_2002_1.fastq.gz\n",
        "!wget ftp://ftp.sra.ebi.ac.uk/vol1/fastq/SRR392/005/SRR3924635/SRR3924635_2.fastq.gz -O Reads/Mpneumoniae_M129_2002_2.fastq.gz\n",
        "\n",
        "#Reads 04 SRR3924586/FL8\n",
        "!wget ftp://ftp.sra.ebi.ac.uk/vol1/fastq/SRR392/007/SRR3924587/SRR3924587_1.fastq.gz -O Reads/Mpneumoniae_FL8_1.fastq.gz\n",
        "!wget ftp://ftp.sra.ebi.ac.uk/vol1/fastq/SRR392/007/SRR3924587/SRR3924587_2.fastq.gz -O Reads/Mpneumoniae_FL8_2.fastq.gz\n",
        "\n",
        "#Reads 05 SRR3924587/E16\n",
        "!wget ftp://ftp.sra.ebi.ac.uk/vol1/fastq/SRR392/001/SRR3924591/SRR3924591_1.fastq.gz -O Reads/Mpneumoniae_E16_1.fastq.gz\n",
        "!wget ftp://ftp.sra.ebi.ac.uk/vol1/fastq/SRR392/001/SRR3924591/SRR3924591_2.fastq.gz -O Reads/Mpneumoniae_E16_2.fastq.gz\n",
        "\n",
        "#Reads 06 SRR3924588/E57\n",
        "!wget ftp://ftp.sra.ebi.ac.uk/vol1/fastq/SRR392/007/SRR3924647/SRR3924647_1.fastq.gz -O Reads/Mpneumoniae_E57_1.fastq.gz\n",
        "!wget ftp://ftp.sra.ebi.ac.uk/vol1/fastq/SRR392/007/SRR3924647/SRR3924647_2.fastq.gz -O Reads/Mpneumoniae_E57_2.fastq.gz\n",
        "\n",
        "#Reads 07 SRR3924589/549\n",
        "!wget ftp://ftp.sra.ebi.ac.uk/vol1/fastq/SRR392/005/SRR3924585/SRR3924585_1.fastq.gz -O Reads/Mpneumoniae_549_1.fastq.gz\n",
        "!wget ftp://ftp.sra.ebi.ac.uk/vol1/fastq/SRR392/005/SRR3924585/SRR3924585_2.fastq.gz -O Reads/Mpneumoniae_549_2.fastq.gz\n",
        "\n",
        "#Reads 08 SRR3924590/CO103\n",
        "!wget ftp://ftp.sra.ebi.ac.uk/vol1/fastq/SRR392/007/SRR3924597/SRR3924597_1.fastq.gz -O Reads/Mpneumoniae_CO103_1.fastq.gz\n",
        "!wget ftp://ftp.sra.ebi.ac.uk/vol1/fastq/SRR392/007/SRR3924597/SRR3924597_2.fastq.gz -O Reads/Mpneumoniae_CO103_2.fastq.gz\n",
        "\n",
        "#Reads 09 SRR3924617/FH_2009\n",
        "!wget ftp://ftp.sra.ebi.ac.uk/vol1/fastq/SRR392/007/SRR3924617/SRR3924617_1.fastq.gz -O Reads/Mpneumoniae_FH_2009_1.fastq.gz\n",
        "!wget ftp://ftp.sra.ebi.ac.uk/vol1/fastq/SRR392/007/SRR3924617/SRR3924617_2.fastq.gz -O Reads/Mpneumoniae_FH_2009_2.fastq.gz\n",
        "\n",
        "#Reads 10 SRR3924617/CO3\n",
        "!wget ftp://ftp.sra.ebi.ac.uk/vol1/fastq/SRR392/002/SRR3924632/SRR3924632_1.fastq.gz -O Reads/Mpneumoniae_CO3_1.fastq.gz\n",
        "!wget ftp://ftp.sra.ebi.ac.uk/vol1/fastq/SRR392/002/SRR3924632/SRR3924632_2.fastq.gz -O Reads/Mpneumoniae_CO3_2.fastq.gz"
      ],
      "metadata": {
        "id": "APGp-wP9qfo0"
      },
      "execution_count": null,
      "outputs": []
    },
    {
      "cell_type": "code",
      "source": [
        "#Tempo de execução (aprox.) = 9 min\n",
        "!fastqc /content/Reads/*.fastq.gz\n",
        "!multiqc /content/Reads"
      ],
      "metadata": {
        "id": "MAZfGSZCywg5"
      },
      "execution_count": null,
      "outputs": []
    },
    {
      "cell_type": "code",
      "source": [
        "#Tempo de execução (aprox.) = 3 min\n",
        "%cd Reads\n",
        "!gunzip *.gz\n",
        "%cd /content/"
      ],
      "metadata": {
        "id": "BNOGLJWi6sMi"
      },
      "execution_count": null,
      "outputs": []
    },
    {
      "cell_type": "code",
      "source": [
        "#Visualização dos cabeçalhos dos arquivos FASTQ\n",
        "!head -12 /content/Reads/Mpneumoniae_K27_1.fastq"
      ],
      "metadata": {
        "id": "pF4h7Obv7aP5"
      },
      "execution_count": null,
      "outputs": []
    },
    {
      "cell_type": "markdown",
      "source": [
        "### **Qualidade antes da trimagem**\n",
        "![image.png](data:image/png;base64,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)"
      ],
      "metadata": {
        "id": "LzttkX1g-qPn"
      }
    },
    {
      "cell_type": "code",
      "source": [
        "#Utilização do AdapterRemoval para timagem e remoção de adaptadores\n",
        "#Tempo de execução (aprox.) = 3 min\n",
        "!AdapterRemoval --file1 /content/Reads/Mpneumoniae_K27_1.fastq \\\n",
        "--file2 /content/Reads/Mpneumoniae_K27_2.fastq \\\n",
        "--threads 2 \\\n",
        "--basename Mpneumoniae_K27 \\\n",
        "--trimns \\\n",
        "--trimqualities \\\n",
        "--minquality 30 \\\n",
        "--minlength 50 \\\n",
        "--collapse"
      ],
      "metadata": {
        "id": "sRtwRnlr8fTG"
      },
      "execution_count": null,
      "outputs": []
    },
    {
      "cell_type": "code",
      "source": [
        "!head /content/Mpneumoniae_K27.pair1.truncated"
      ],
      "metadata": {
        "id": "2K1p9CF0W8Gm"
      },
      "execution_count": null,
      "outputs": []
    },
    {
      "cell_type": "code",
      "source": [
        "!mv /content/Mpneumoniae_K27.pair1.truncated /content/Mpneumoniae_K27_1_trimmed.fastq\n",
        "!mv /content/Mpneumoniae_K27.pair2.truncated /content/Mpneumoniae_K27_2_trimmed.fastq"
      ],
      "metadata": {
        "id": "z28qnupfXAaV"
      },
      "execution_count": null,
      "outputs": []
    },
    {
      "cell_type": "code",
      "source": [
        "!fastqc /content/Mpneumoniae_K27_1_trimmed.fastq\n",
        "!fastqc /content/Mpneumoniae_K27_2_trimmed.fastq"
      ],
      "metadata": {
        "id": "0kO1a-7j-hyI"
      },
      "execution_count": null,
      "outputs": []
    },
    {
      "cell_type": "code",
      "source": [
        "!spades -1 /content/Reads/Mpneumoniae_K27_1.fastq -2 /content/Reads/Mpneumoniae_K27_1.fastq -o Mpneumoniae_K27"
      ],
      "metadata": {
        "id": "a6F8DU8HBb6P"
      },
      "execution_count": null,
      "outputs": []
    },
    {
      "cell_type": "code",
      "source": [
        "!wget ftp://ftp.ncbi.nlm.nih.gov/genomes/all/GCF/002/128/185/GCF_002128185.1_ASM212818v1/GCF_002128185.1_ASM212818v1_genomic.fna.gz -O Mpneumoniae_K27.fasta.gz\n",
        "!gunzip Mpneumoniae_K27.fasta.gz"
      ],
      "metadata": {
        "id": "ylHGOLH-kDAn"
      },
      "execution_count": null,
      "outputs": []
    },
    {
      "cell_type": "code",
      "source": [
        "!quast -R /content/Mpneumoniae_K27.fasta /content/Mpneumoniae_K27/scaffolds.fasta"
      ],
      "metadata": {
        "id": "8ZXEYBNyj8w2"
      },
      "execution_count": null,
      "outputs": []
    }
  ]
}